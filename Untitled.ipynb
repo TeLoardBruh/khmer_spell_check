{
 "cells": [
  {
   "cell_type": "code",
   "execution_count": null,
   "id": "matched-surname",
   "metadata": {},
   "outputs": [],
   "source": [
    "import json\n",
    "import pkg_resources\n",
    "from symspellpy import SymSpell, Verbosity\n",
    "\n",
    "\n",
    "def create_ditc():\n",
    "    sym_spell = SymSpell()\n",
    "    corpus_path = './files/dict//km_KH.txt'\n",
    "    sym_spell.create_dictionary(corpus_path,encoding='utf8')\n",
    "\n",
    "\n",
    "    # creating file \n",
    "    with open('own_dic.txt', 'w', encoding='utf-8') as file:\n",
    "        for key, value in sym_spell.words.items(): \n",
    "            file.write('%s %s \\n' % (key, value)) # use `json.loads` to do the reverse\n",
    "\n",
    "\n",
    "    print((sym_spell.words.items()))\n",
    "\n",
    "\n",
    "def check_up():\n",
    "    sym_spell = SymSpell(max_dictionary_edit_distance=0, prefix_length=7)\n",
    "    dictionary_path = './files/dict/own_dic.txt'\n",
    "    # term_index is the column of the term and count_index is the\n",
    "    # column of the term frequency\n",
    "    sym_spell.load_dictionary(dictionary_path, 0, 1, encoding=\"utf8\")\n",
    "    # print(sym_spell.words.items())\n",
    "    # lookup suggestions for single-word input strings\n",
    "    input_term = \"ខ្ញុំចង់ទៅសាលារៀន\"  # misspelling of \"members\"\n",
    "    # max edit distance per lookup\n",
    "    # (max_edit_distance_lookup <= max_dictionary_edit_distance)\n",
    "    # suggestions = sym_spell.lookup(input_term, Verbosity.CLOSEST,\n",
    "    #                            max_edit_distance=2, )\n",
    "    # # display suggestion term, term frequency, and edit distance\n",
    "    # # display suggestion term, term frequency, and edit distance\n",
    "    # print(\"in here\")\n",
    "    # for suggestion in suggestions:\n",
    "    #     print(suggestion)\n",
    "    result = sym_spell.word_segmentation(input_term)\n",
    "    print(\"{}, {}, {}\".format(result.corrected_string, result.distance_sum,\n",
    "                          result.log_prob_sum))\n",
    "\n",
    "\n",
    "check_up()\n",
    "print(\"helo\")"
   ]
  },
  {
   "cell_type": "code",
   "execution_count": null,
   "id": "hindu-print",
   "metadata": {},
   "outputs": [],
   "source": [
    "!"
   ]
  },
  {
   "cell_type": "code",
   "execution_count": null,
   "id": "closed-appointment",
   "metadata": {},
   "outputs": [],
   "source": [
    "print('a')"
   ]
  },
  {
   "cell_type": "code",
   "execution_count": null,
   "id": "criminal-bouquet",
   "metadata": {},
   "outputs": [],
   "source": []
  }
 ],
 "metadata": {
  "kernelspec": {
   "display_name": "Python 3.8.5 64-bit ('env': venv)",
   "language": "python",
   "name": "python38564bitenvvenve641518d8e144a89a4b1a6fae4c24de8"
  }
 },
 "nbformat": 4,
 "nbformat_minor": 5
}
